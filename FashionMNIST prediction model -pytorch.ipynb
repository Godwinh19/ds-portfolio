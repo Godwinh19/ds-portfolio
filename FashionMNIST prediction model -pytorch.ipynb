{
 "cells": [
  {
   "cell_type": "code",
   "execution_count": 1,
   "metadata": {},
   "outputs": [],
   "source": [
    "import torch\n",
    "from torch import nn\n",
    "from torch.utils.data import DataLoader\n",
    "from torchvision import datasets\n",
    "from torchvision.transforms import ToTensor, Lambda, Compose\n",
    "import matplotlib.pyplot as plt"
   ]
  },
  {
   "cell_type": "code",
   "execution_count": 15,
   "metadata": {},
   "outputs": [
    {
     "name": "stdout",
     "output_type": "stream",
     "text": [
      "Using cpu\n"
     ]
    }
   ],
   "source": [
    "device = torch.device(\"cuda\" if torch.cuda.is_available() else \"cpu\")\n",
    "print(f\"Using {device}\")"
   ]
  },
  {
   "cell_type": "code",
   "execution_count": 3,
   "metadata": {},
   "outputs": [],
   "source": [
    "training_data = datasets.FashionMNIST(\n",
    "    root = \"data\",\n",
    "    train=True,\n",
    "    download=False,\n",
    "    transform=ToTensor(),\n",
    ")\n",
    "\n",
    "test_data = datasets.FashionMNIST(\n",
    "    root=\"data\",\n",
    "    train=False,\n",
    "    download=False,\n",
    "    transform=ToTensor(),\n",
    ")"
   ]
  },
  {
   "cell_type": "code",
   "execution_count": 4,
   "metadata": {},
   "outputs": [],
   "source": [
    "classes = [\n",
    "    \"T-shirt/top\",\n",
    "    \"Trouser\",\n",
    "    \"Pullover\",\n",
    "    \"Dress\",\n",
    "    \"Coat\",\n",
    "    \"Sandal\",\n",
    "    \"Shirt\",\n",
    "    \"Sneaker\",\n",
    "    \"Bag\",\n",
    "    \"Ankle boot\",\n",
    "]"
   ]
  },
  {
   "cell_type": "code",
   "execution_count": 5,
   "metadata": {},
   "outputs": [
    {
     "data": {
      "image/png": "[encoded data removed]",
      "text/plain": [
       "<Figure size 576x576 with 9 Axes>"
      ]
     },
     "metadata": {
      "needs_background": "light"
     },
     "output_type": "display_data"
    }
   ],
   "source": [
    "figure = plt.figure(figsize=(8,8))\n",
    "cols, rows = 3, 3\n",
    "for i in range(1, cols*rows + 1):\n",
    "    sample_idx = torch.randint(len(training_data), size=(1,)).item()\n",
    "    img, label = training_data[sample_idx]\n",
    "    figure.add_subplot(rows, cols, i)\n",
    "    plt.title(classes[label])\n",
    "    plt.axis('off')\n",
    "    plt.imshow(img.squeeze(), cmap='gray')\n",
    "plt.show()"
   ]
  },
  {
   "cell_type": "code",
   "execution_count": 6,
   "metadata": {},
   "outputs": [
    {
     "name": "stdout",
     "output_type": "stream",
     "text": [
      "Shape of X [N, C, H, W]:  torch.Size([64, 1, 28, 28])\n",
      "shape of y torch.Size([64]) torch.int64\n"
     ]
    }
   ],
   "source": [
    "batch_size = 64\n",
    "\n",
    "# Create dataloaders\n",
    "train_loader = DataLoader(training_data, batch_size=batch_size)\n",
    "test_loader = DataLoader(test_data, batch_size=batch_size)\n",
    "\n",
    "for X, y in test_loader:\n",
    "    print(\"Shape of X [N, C, H, W]: \", X.shape)\n",
    "    print(\"shape of y\", y.shape, y.dtype)\n",
    "    break"
   ]
  },
  {
   "cell_type": "code",
   "execution_count": 7,
   "metadata": {},
   "outputs": [
    {
     "name": "stdout",
     "output_type": "stream",
     "text": [
      "Net(\n",
      "  (flatten): Flatten(start_dim=1, end_dim=-1)\n",
      "  (linear_relu_stack): Sequential(\n",
      "    (0): Linear(in_features=784, out_features=512, bias=True)\n",
      "    (1): ReLU()\n",
      "    (2): Linear(in_features=512, out_features=512, bias=True)\n",
      "    (3): ReLU()\n",
      "    (4): Linear(in_features=512, out_features=10, bias=True)\n",
      "    (5): ReLU()\n",
      "  )\n",
      ")\n"
     ]
    }
   ],
   "source": [
    "# the neural network\n",
    "\n",
    "# Define the model\n",
    "class Net(nn.Module):\n",
    "    def __init__(self):\n",
    "        super(Net, self).__init__()\n",
    "        self.flatten = nn.Flatten()\n",
    "        \n",
    "        self.linear_relu_stack = nn.Sequential(\n",
    "            nn.Linear(28*28, 512),\n",
    "            nn.ReLU(),\n",
    "            nn.Linear(512,512),\n",
    "            nn.ReLU(),\n",
    "            nn.Linear(512,10),\n",
    "            nn.ReLU()\n",
    "        )\n",
    "    \n",
    "    def forward(self, x):\n",
    "        x = self.flatten(x)\n",
    "        logits = self.linear_relu_stack(x)\n",
    "        return logits\n",
    "\n",
    "model = Net().to(device)\n",
    "print(model)"
   ]
  },
  {
   "cell_type": "code",
   "execution_count": 8,
   "metadata": {},
   "outputs": [],
   "source": [
    "# Optimizing the model parameters\n",
    "loss_fn = nn.CrossEntropyLoss()\n",
    "optimizer = torch.optim.SGD(model.parameters(), lr=1e-3)"
   ]
  },
  {
   "cell_type": "code",
   "execution_count": 9,
   "metadata": {},
   "outputs": [],
   "source": [
    "def train(dataloader, model, loss_fn, optimizer):\n",
    "    size = len(dataloader.dataset)\n",
    "    for batch, (X, y) in enumerate(dataloader):\n",
    "        \n",
    "        # compute prediction error\n",
    "        pred = model(X)\n",
    "        loss = loss_fn(pred, y)\n",
    "        \n",
    "        # backpropagation\n",
    "        optimizer.zero_grad()\n",
    "        loss.backward()\n",
    "        optimizer.step()\n",
    "        \n",
    "        if batch % 100 == 0:\n",
    "            loss, current = loss.item(), batch * len(X)\n",
    "            print(f\"loss: {loss:>7f} [{current:>5d}/{size:>5d}]\")"
   ]
  },
  {
   "cell_type": "code",
   "execution_count": 10,
   "metadata": {},
   "outputs": [],
   "source": [
    "def test(dataloader, model):\n",
    "    size = len(dataloader.dataset)\n",
    "    model.eval()\n",
    "    test_loss, correct = 0, 0\n",
    "    \n",
    "    with torch.no_grad():\n",
    "        for X, y in dataloader:\n",
    "            X, y = X.to(device), y.to(device)\n",
    "            pred = model(X)\n",
    "            test_loss += loss_fn(pred, y).item()\n",
    "            correct += (pred.argmax(1) == y).type(torch.float).sum().item()\n",
    "    test_loss /= size\n",
    "    correct /= size\n",
    "    print(f\"Test error: \\n Accuracy: {(100*correct):>0.1f}%, Avg loss: {test_loss:>8f} \\n\")"
   ]
  },
  {
   "cell_type": "code",
   "execution_count": 11,
   "metadata": {},
   "outputs": [
    {
     "name": "stdout",
     "output_type": "stream",
     "text": [
      "Epochs 1.....................\n",
      "loss: 2.305020 [    0/60000]\n",
      "loss: 2.293751 [ 6400/60000]\n",
      "loss: 2.283400 [12800/60000]\n",
      "loss: 2.292862 [19200/60000]\n",
      "loss: 2.263267 [25600/60000]\n",
      "loss: 2.263277 [32000/60000]\n",
      "loss: 2.267815 [38400/60000]\n",
      "loss: 2.243920 [44800/60000]\n",
      "loss: 2.251131 [51200/60000]\n",
      "loss: 2.259042 [57600/60000]\n",
      "Test error: \n",
      " Accuracy: 31.6%, Avg loss: 0.035111 \n",
      "\n",
      "Epochs 2.....................\n",
      "loss: 2.238610 [    0/60000]\n",
      "loss: 2.212684 [ 6400/60000]\n",
      "loss: 2.195516 [12800/60000]\n",
      "loss: 2.225475 [19200/60000]\n",
      "loss: 2.146758 [25600/60000]\n",
      "loss: 2.170826 [32000/60000]\n",
      "loss: 2.181951 [38400/60000]\n",
      "loss: 2.133544 [44800/60000]\n",
      "loss: 2.153962 [51200/60000]\n",
      "loss: 2.158899 [57600/60000]\n",
      "Test error: \n",
      " Accuracy: 44.8%, Avg loss: 0.033122 \n",
      "\n",
      "Epochs 3.....................\n",
      "loss: 2.138730 [    0/60000]\n",
      "loss: 2.078390 [ 6400/60000]\n",
      "loss: 2.032804 [12800/60000]\n",
      "loss: 2.086885 [19200/60000]\n",
      "loss: 1.946255 [25600/60000]\n",
      "loss: 1.989822 [32000/60000]\n",
      "loss: 2.054332 [38400/60000]\n",
      "loss: 1.962657 [44800/60000]\n",
      "loss: 1.997379 [51200/60000]\n",
      "loss: 2.018178 [57600/60000]\n",
      "Test error: \n",
      " Accuracy: 50.8%, Avg loss: 0.030309 \n",
      "\n",
      "Epochs 4.....................\n",
      "loss: 1.996427 [    0/60000]\n",
      "loss: 1.895723 [ 6400/60000]\n",
      "loss: 1.819893 [12800/60000]\n",
      "loss: 1.910280 [19200/60000]\n",
      "loss: 1.722907 [25600/60000]\n",
      "loss: 1.805655 [32000/60000]\n",
      "loss: 1.912111 [38400/60000]\n",
      "loss: 1.792584 [44800/60000]\n",
      "loss: 1.833729 [51200/60000]\n",
      "loss: 1.889652 [57600/60000]\n",
      "Test error: \n",
      " Accuracy: 52.2%, Avg loss: 0.027649 \n",
      "\n",
      "Epochs 5.....................\n",
      "loss: 1.855524 [    0/60000]\n",
      "loss: 1.735272 [ 6400/60000]\n",
      "loss: 1.631620 [12800/60000]\n",
      "loss: 1.759716 [19200/60000]\n",
      "loss: 1.548882 [25600/60000]\n",
      "loss: 1.661162 [32000/60000]\n",
      "loss: 1.795116 [38400/60000]\n",
      "loss: 1.666415 [44800/60000]\n",
      "loss: 1.699886 [51200/60000]\n",
      "loss: 1.791136 [57600/60000]\n",
      "Test error: \n",
      " Accuracy: 54.9%, Avg loss: 0.025626 \n",
      "\n",
      "Epochs 6.....................\n",
      "loss: 1.733756 [    0/60000]\n",
      "loss: 1.614437 [ 6400/60000]\n",
      "loss: 1.487118 [12800/60000]\n",
      "loss: 1.653220 [19200/60000]\n",
      "loss: 1.424974 [25600/60000]\n",
      "loss: 1.553332 [32000/60000]\n",
      "loss: 1.702516 [38400/60000]\n",
      "loss: 1.574961 [44800/60000]\n",
      "loss: 1.596974 [51200/60000]\n",
      "loss: 1.719005 [57600/60000]\n",
      "Test error: \n",
      " Accuracy: 57.0%, Avg loss: 0.024127 \n",
      "\n",
      "Done\n"
     ]
    }
   ],
   "source": [
    "epochs = 6\n",
    "for t in range(epochs):\n",
    "    print(f\"Epochs {t+1}.....................\")\n",
    "    train(dataloader=train_loader, model=model, loss_fn=loss_fn, optimizer=optimizer)\n",
    "    test(test_loader, model)\n",
    "print(\"Done\")"
   ]
  },
  {
   "cell_type": "code",
   "execution_count": 12,
   "metadata": {},
   "outputs": [
    {
     "name": "stdout",
     "output_type": "stream",
     "text": [
      "Saved model state\n"
     ]
    }
   ],
   "source": [
    "# Saving model\n",
    "torch.save(model.state_dict(), \"models/model.torch\")\n",
    "print(\"Saved model state\")"
   ]
  },
  {
   "cell_type": "code",
   "execution_count": 13,
   "metadata": {},
   "outputs": [
    {
     "data": {
      "text/plain": [
       "<All keys matched successfully>"
      ]
     },
     "execution_count": 13,
     "metadata": {},
     "output_type": "execute_result"
    }
   ],
   "source": [
    "# Loading model\n",
    "model = Net()\n",
    "model.load_state_dict(torch.load(\"models/model.torch\"))"
   ]
  },
  {
   "cell_type": "code",
   "execution_count": 14,
   "metadata": {},
   "outputs": [
    {
     "name": "stdout",
     "output_type": "stream",
     "text": [
      "Predicted: \"Trouser\", Actual: \"Trouser\"\n"
     ]
    }
   ],
   "source": [
    "# Making predictions\n",
    "model.eval()\n",
    "x, y = test_data[2]\n",
    "with torch.no_grad():\n",
    "    pred = model(x)\n",
    "    predicted, actual = classes[pred[0].argmax(0)], classes[y]\n",
    "    print(f'Predicted: \"{predicted}\", Actual: \"{actual}\"')"
   ]
  },
  {
   "cell_type": "code",
   "execution_count": null,
   "metadata": {},
   "outputs": [],
   "source": []
  }
 ],
 "metadata": {
  "kernelspec": {
   "display_name": "Python 3",
   "language": "python",
   "name": "python3"
  },
  "language_info": {
   "codemirror_mode": {
    "name": "ipython",
    "version": 3
   },
   "file_extension": ".py",
   "mimetype": "text/x-python",
   "name": "python",
   "nbconvert_exporter": "python",
   "pygments_lexer": "ipython3",
   "version": "3.7.3"
  }
 },
 "nbformat": 4,
 "nbformat_minor": 2
}
